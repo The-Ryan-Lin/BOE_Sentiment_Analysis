{
 "cells": [
  {
   "cell_type": "markdown",
   "id": "c45b60a7",
   "metadata": {},
   "source": [
    "### LSE Data Analytics Online Career Accelerator \n",
    "\n",
    "# Employer Project: Bank of Engand Sentiment Analysis"
   ]
  },
  {
   "cell_type": "markdown",
   "id": "f439c474",
   "metadata": {},
   "source": [
    "## Introduction: Bank of England (BOE)\n",
    "\n",
    "The [Kaggle data set](https://www.kaggle.com/datasets/davidgauthier/central-bank-speeches/data) used in this project use speeches from senior central bankers of various influential central banks. The corpus runs from 1997 until 2022. Central banks are institutions that define monetary policy. As such, central bank speeches are widely followed and have a major influence on financial markets.\n",
    "\n",
    "You can also refer to the raw data set and article used [here](https://www.kaggle.com/datasets/magnushansson/central-bank-speeches).\n",
    "\n",
    "Note that, due to the large number of speeches contained in the data set, you can expect long running times for processing intensive steps such as sentiment analysis when using the full data set (30-60 mins). It is recommended that you reduce the subset of data under review when creating your prototype and then run the full data set through, if required, once the code behaves as expected. You can reduce the data set to, for example, only process data from the United Kingdom (or other countries) or by looking at specific date ranges.\n",
    "\n",
    "The code is not extensive and you will be expected to use the provided code as a starting point only. You will also need to use your own creativity and logic to identify useful patterns in the data. You can explore sentiment, polarity and entities/keywords, and should use appropriate levels of granularity and aggregation in order to analyse patterns contained in the data.\n",
    "\n",
    "1. __All Speeches- all_speeches.csv:__ Speeches from senior central bankers of various influential central banks. The corpus runs from 1997 until 2022: \n",
    "> - reference, country, date, title, author, is_gov, text.\n"
   ]
  },
  {
   "cell_type": "markdown",
   "id": "45f7f4d5",
   "metadata": {},
   "source": [
    "__Context:__ In this fast-evolving contemporary digital world, understanding how to effectively tackle\n",
    "data is paramount, particularly for financial institutions like the Bank of England. Their decisions,\n",
    "backed by data driven insights, influences not just the UK’s monetary and financial stability, but also\n",
    "the global economic system. One major tool the Bank uses to conveys its stance and views is\n",
    "through speeches delivered by its representatives at various public events. <br>\n",
    "\n",
    "__The Problem:__ The evolving sentiment within these speeches can provide valuable insights into the\n",
    "bank’s current and future strategies. However, a plethora of questions remain unanswered:<br>\n",
    "- Has the sentiment of central bank speeches changed over time, and if so, in what ways?\n",
    "- Are there discernible trends in the sentiment expressed in these speeches?\n",
    "- How does the sentiment correlate with major economic indicators like the UK's GDP growth,\n",
    "inflation, unemployment, and wages?\n",
    "- Furthermore, does the sentiment expressed in these speeches have the power to predict\n",
    "market behaviours?\n",
    "\n",
    "__Significance:__ Understanding these sentiments can play a pivotal role in predicting market trends\n",
    "and aligning the bank’s communication to stabilise financial markets. Moreover, as the Bank of\n",
    "England aims to steer the economy through its policies, its communication becomes a key\n",
    "instrument in achieving those policy objectives. Prior Natural Language Processing (NLP) and\n",
    "Machine Learning techniques (Extreme Gradient Boosting model) on central bank speeches and\n",
    "Large Language Models (LLMs) using GPT-3.5 on Bank of England Monetary Policy Committee\n",
    "(MPC) member speeches have demonstrated predictive abilities for financial markets response.<br>\n",
    "\n",
    "__Objectives:__ Ultimately, the goal is to refine the Bank of England’s communication strategies by\n",
    "leveraging sentiment analysis. This will help in making more informed data-driven decisions,\n",
    "understanding the key impacts, gauging financial indicators, and tailoring communications to\n",
    "maintain stable markets."
   ]
  },
  {
   "cell_type": "markdown",
   "id": "485c0f3f",
   "metadata": {},
   "source": [
    "# 1. Initial Exploratory Analysis "
   ]
  },
  {
   "cell_type": "markdown",
   "id": "53c6c682",
   "metadata": {},
   "source": [
    "## 1a. Data Importation and Cleaning"
   ]
  },
  {
   "cell_type": "markdown",
   "id": "4ddda0a9",
   "metadata": {},
   "source": [
    "1. Import dataset\n",
    "2. Import all speeches\n",
    "3. Collect and import more UK Speech data. E.g monetary policy announcement etc\n",
    "4. Import financial metric data (see data folder) \n",
    "- Inflation \n",
    "- GDP \n",
    "- Unemployment\n",
    "- FTSE/ S&P\n",
    "- Market Momentum\n",
    "- Interest rates\n",
    "- Guilds/ gilts/ bonds\n",
    "- Merge the databases in Python \n",
    "- Merge by date of economic metrics "
   ]
  },
  {
   "cell_type": "code",
   "execution_count": null,
   "id": "46b7ffdd",
   "metadata": {},
   "outputs": [],
   "source": [
    "# Install the necessary libraries.\n",
    "#!pip install nltk\n",
    "#!pip install vaderSentiment\n",
    "#!pip install textblob"
   ]
  },
  {
   "cell_type": "code",
   "execution_count": 1,
   "id": "b7edeb1c",
   "metadata": {},
   "outputs": [
    {
     "name": "stderr",
     "output_type": "stream",
     "text": [
      "[nltk_data] Downloading package punkt to /Users/RyanLin/nltk_data...\n",
      "[nltk_data]   Package punkt is already up-to-date!\n",
      "[nltk_data] Downloading package stopwords to\n",
      "[nltk_data]     /Users/RyanLin/nltk_data...\n",
      "[nltk_data]   Package stopwords is already up-to-date!\n",
      "[nltk_data] Downloading package words to /Users/RyanLin/nltk_data...\n",
      "[nltk_data]   Package words is already up-to-date!\n",
      "[nltk_data] Downloading package omw-1.4 to /Users/RyanLin/nltk_data...\n",
      "[nltk_data]   Package omw-1.4 is already up-to-date!\n"
     ]
    }
   ],
   "source": [
    "# Import relevant libraries.\n",
    "import pandas as pd\n",
    "import numpy as np\n",
    "import os\n",
    "import matplotlib.pyplot as plt\n",
    "from datetime import datetime\n",
    "\n",
    "import nltk\n",
    "nltk.download('punkt')\n",
    "nltk.download('stopwords')\n",
    "nltk.download('words')\n",
    "nltk.download('omw-1.4')\n",
    "from nltk.corpus import stopwords\n",
    "from nltk.corpus import words\n",
    "from nltk.tokenize import word_tokenize\n",
    "from nltk.probability import FreqDist\n",
    "from vaderSentiment.vaderSentiment import SentimentIntensityAnalyzer\n",
    "from textblob import TextBlob\n",
    "stop_words = set(stopwords.words('english'))"
   ]
  },
  {
   "cell_type": "code",
   "execution_count": 2,
   "id": "fc682fb9",
   "metadata": {},
   "outputs": [],
   "source": [
    "# Load dataset. Change directory as required.\n",
    "df = pd.read_csv('../Data/01_raw/Core_data/all_speeches.csv')"
   ]
  },
  {
   "cell_type": "code",
   "execution_count": 3,
   "id": "4966b2f1",
   "metadata": {},
   "outputs": [
    {
     "data": {
      "text/html": [
       "<div>\n",
       "<style scoped>\n",
       "    .dataframe tbody tr th:only-of-type {\n",
       "        vertical-align: middle;\n",
       "    }\n",
       "\n",
       "    .dataframe tbody tr th {\n",
       "        vertical-align: top;\n",
       "    }\n",
       "\n",
       "    .dataframe thead th {\n",
       "        text-align: right;\n",
       "    }\n",
       "</style>\n",
       "<table border=\"1\" class=\"dataframe\">\n",
       "  <thead>\n",
       "    <tr style=\"text-align: right;\">\n",
       "      <th></th>\n",
       "      <th>reference</th>\n",
       "      <th>country</th>\n",
       "      <th>date</th>\n",
       "      <th>title</th>\n",
       "      <th>author</th>\n",
       "      <th>is_gov</th>\n",
       "      <th>text</th>\n",
       "    </tr>\n",
       "  </thead>\n",
       "  <tbody>\n",
       "    <tr>\n",
       "      <th>0</th>\n",
       "      <td>r901128a_BOA</td>\n",
       "      <td>australia</td>\n",
       "      <td>1990-11-28</td>\n",
       "      <td>A Proper Role for Monetary Policy</td>\n",
       "      <td>fraser</td>\n",
       "      <td>0</td>\n",
       "      <td>They would no doubt argue that to have two obj...</td>\n",
       "    </tr>\n",
       "    <tr>\n",
       "      <th>1</th>\n",
       "      <td>r911003a_BOA</td>\n",
       "      <td>australia</td>\n",
       "      <td>1991-10-03</td>\n",
       "      <td></td>\n",
       "      <td>fraser</td>\n",
       "      <td>0</td>\n",
       "      <td>Today I wish to talk about real interest rates...</td>\n",
       "    </tr>\n",
       "    <tr>\n",
       "      <th>2</th>\n",
       "      <td>r920314a_BOA</td>\n",
       "      <td>australia</td>\n",
       "      <td>1992-03-14</td>\n",
       "      <td></td>\n",
       "      <td>fraser</td>\n",
       "      <td>0</td>\n",
       "      <td>I welcome this opportunity to talk about prosp...</td>\n",
       "    </tr>\n",
       "    <tr>\n",
       "      <th>3</th>\n",
       "      <td>r920529a_BOA</td>\n",
       "      <td>australia</td>\n",
       "      <td>1992-05-29</td>\n",
       "      <td></td>\n",
       "      <td>fraser</td>\n",
       "      <td>0</td>\n",
       "      <td>It is a pleasure to have this opportunity to a...</td>\n",
       "    </tr>\n",
       "    <tr>\n",
       "      <th>4</th>\n",
       "      <td>r920817a_BOA</td>\n",
       "      <td>australia</td>\n",
       "      <td>1992-08-17</td>\n",
       "      <td></td>\n",
       "      <td>fraser</td>\n",
       "      <td>0</td>\n",
       "      <td>As a long-time fan of Don Sanders, I am deligh...</td>\n",
       "    </tr>\n",
       "  </tbody>\n",
       "</table>\n",
       "</div>"
      ],
      "text/plain": [
       "      reference    country        date                               title  \\\n",
       "0  r901128a_BOA  australia  1990-11-28   A Proper Role for Monetary Policy   \n",
       "1  r911003a_BOA  australia  1991-10-03                                       \n",
       "2  r920314a_BOA  australia  1992-03-14                                       \n",
       "3  r920529a_BOA  australia  1992-05-29                                       \n",
       "4  r920817a_BOA  australia  1992-08-17                                       \n",
       "\n",
       "   author  is_gov                                               text  \n",
       "0  fraser       0  They would no doubt argue that to have two obj...  \n",
       "1  fraser       0  Today I wish to talk about real interest rates...  \n",
       "2  fraser       0  I welcome this opportunity to talk about prosp...  \n",
       "3  fraser       0  It is a pleasure to have this opportunity to a...  \n",
       "4  fraser       0  As a long-time fan of Don Sanders, I am deligh...  "
      ]
     },
     "execution_count": 3,
     "metadata": {},
     "output_type": "execute_result"
    }
   ],
   "source": [
    "df.head()"
   ]
  },
  {
   "cell_type": "code",
   "execution_count": 4,
   "id": "39c6b45f",
   "metadata": {},
   "outputs": [
    {
     "data": {
      "text/plain": [
       "euro area         2351\n",
       "united states     1551\n",
       "united kingdom    1209\n",
       "japan              755\n",
       "canada             620\n",
       "sweden             600\n",
       "switzerland        351\n",
       "australia          284\n",
       "Name: country, dtype: int64"
      ]
     },
     "execution_count": 4,
     "metadata": {},
     "output_type": "execute_result"
    }
   ],
   "source": [
    "df.country.value_counts()"
   ]
  },
  {
   "cell_type": "code",
   "execution_count": 5,
   "id": "ba6cda6f",
   "metadata": {},
   "outputs": [
    {
     "data": {
      "text/html": [
       "<div>\n",
       "<style scoped>\n",
       "    .dataframe tbody tr th:only-of-type {\n",
       "        vertical-align: middle;\n",
       "    }\n",
       "\n",
       "    .dataframe tbody tr th {\n",
       "        vertical-align: top;\n",
       "    }\n",
       "\n",
       "    .dataframe thead th {\n",
       "        text-align: right;\n",
       "    }\n",
       "</style>\n",
       "<table border=\"1\" class=\"dataframe\">\n",
       "  <thead>\n",
       "    <tr style=\"text-align: right;\">\n",
       "      <th></th>\n",
       "      <th>reference</th>\n",
       "      <th>country</th>\n",
       "      <th>date</th>\n",
       "      <th>title</th>\n",
       "      <th>author</th>\n",
       "      <th>is_gov</th>\n",
       "      <th>text</th>\n",
       "    </tr>\n",
       "  </thead>\n",
       "  <tbody>\n",
       "    <tr>\n",
       "      <th>4961</th>\n",
       "      <td>r980915a_BOE</td>\n",
       "      <td>united kingdom</td>\n",
       "      <td>1998-09-15</td>\n",
       "      <td>Speech</td>\n",
       "      <td>george</td>\n",
       "      <td>0</td>\n",
       "      <td>Thank you, Chairman. I'm actually very pleased...</td>\n",
       "    </tr>\n",
       "    <tr>\n",
       "      <th>4962</th>\n",
       "      <td>r981021b_BOE</td>\n",
       "      <td>united kingdom</td>\n",
       "      <td>1998-10-21</td>\n",
       "      <td>Britain in Europe</td>\n",
       "      <td>george</td>\n",
       "      <td>0</td>\n",
       "      <td>It's a great pleasure to be here in the beauti...</td>\n",
       "    </tr>\n",
       "    <tr>\n",
       "      <th>4963</th>\n",
       "      <td>r981021a_BOE</td>\n",
       "      <td>united kingdom</td>\n",
       "      <td>1998-10-21</td>\n",
       "      <td>Impact of the recent turbulence in internation...</td>\n",
       "      <td>king</td>\n",
       "      <td>1</td>\n",
       "      <td>Few industries have suffered more from volatil...</td>\n",
       "    </tr>\n",
       "    <tr>\n",
       "      <th>4964</th>\n",
       "      <td>r981101a_BOE</td>\n",
       "      <td>united kingdom</td>\n",
       "      <td>1998-11-01</td>\n",
       "      <td>Economic policy, with and without forecasts</td>\n",
       "      <td>budd</td>\n",
       "      <td>0</td>\n",
       "      <td>My topic this evening is the use of forecasts ...</td>\n",
       "    </tr>\n",
       "    <tr>\n",
       "      <th>4965</th>\n",
       "      <td>r981101b_BOE</td>\n",
       "      <td>united kingdom</td>\n",
       "      <td>1998-11-01</td>\n",
       "      <td>Inflation targeting in practice: the UK experi...</td>\n",
       "      <td>vickers</td>\n",
       "      <td>0</td>\n",
       "      <td>Six years ago this week, sterling left the exc...</td>\n",
       "    </tr>\n",
       "  </tbody>\n",
       "</table>\n",
       "</div>"
      ],
      "text/plain": [
       "         reference         country        date  \\\n",
       "4961  r980915a_BOE  united kingdom  1998-09-15   \n",
       "4962  r981021b_BOE  united kingdom  1998-10-21   \n",
       "4963  r981021a_BOE  united kingdom  1998-10-21   \n",
       "4964  r981101a_BOE  united kingdom  1998-11-01   \n",
       "4965  r981101b_BOE  united kingdom  1998-11-01   \n",
       "\n",
       "                                                  title   author  is_gov  \\\n",
       "4961                                             Speech   george       0   \n",
       "4962                                  Britain in Europe   george       0   \n",
       "4963  Impact of the recent turbulence in internation...     king       1   \n",
       "4964        Economic policy, with and without forecasts     budd       0   \n",
       "4965  Inflation targeting in practice: the UK experi...  vickers       0   \n",
       "\n",
       "                                                   text  \n",
       "4961  Thank you, Chairman. I'm actually very pleased...  \n",
       "4962  It's a great pleasure to be here in the beauti...  \n",
       "4963  Few industries have suffered more from volatil...  \n",
       "4964  My topic this evening is the use of forecasts ...  \n",
       "4965  Six years ago this week, sterling left the exc...  "
      ]
     },
     "execution_count": 5,
     "metadata": {},
     "output_type": "execute_result"
    }
   ],
   "source": [
    "df[df['country']=='united kingdom'].sort_values('date').head()"
   ]
  },
  {
   "cell_type": "code",
   "execution_count": 6,
   "id": "8eac454e",
   "metadata": {},
   "outputs": [],
   "source": [
    "# Subset the DataFrame\n",
    "subset_df = df[df['country'] == 'united kingdom'].sort_values('date').head()"
   ]
  },
  {
   "cell_type": "code",
   "execution_count": 7,
   "id": "7c4c3c6d",
   "metadata": {},
   "outputs": [
    {
     "name": "stdout",
     "output_type": "stream",
     "text": [
      "Duplicate rows:\n",
      "Empty DataFrame\n",
      "Columns: [reference, country, date, title, author, is_gov, text]\n",
      "Index: []\n",
      "Missing values:\n",
      "     reference country date title author  is_gov text\n",
      "4961       NaN     NaN  NaN   NaN    NaN     NaN  NaN\n",
      "4962       NaN     NaN  NaN   NaN    NaN     NaN  NaN\n",
      "4963       NaN     NaN  NaN   NaN    NaN     NaN  NaN\n",
      "4964       NaN     NaN  NaN   NaN    NaN     NaN  NaN\n",
      "4965       NaN     NaN  NaN   NaN    NaN     NaN  NaN\n"
     ]
    }
   ],
   "source": [
    "# Check for duplicates\n",
    "duplicates = subset_df.duplicated()\n",
    "print(\"Duplicate rows:\")\n",
    "print(subset_df[duplicates])\n",
    "\n",
    "# Check for missing values\n",
    "missing_values = subset_df.isnull()\n",
    "print(\"Missing values:\")\n",
    "print(subset_df[missing_values])"
   ]
  },
  {
   "cell_type": "markdown",
   "id": "62ecec5e",
   "metadata": {},
   "source": [
    "No duplicates or missing values present"
   ]
  },
  {
   "cell_type": "markdown",
   "id": "d9b147c9",
   "metadata": {},
   "source": [
    "### Normalise the Sentiment Score Range"
   ]
  },
  {
   "cell_type": "markdown",
   "id": "3dc43def",
   "metadata": {},
   "source": [
    "Normalise sentiment score and have the max and min sentiment as our end ranges\n",
    "- developing our own scale for sentiment/ polarity, choosing to normalise the data\n",
    "- The highest threshold would be the highest sentiment/ polarity in the dataset and lowest the lower threshold in the data analysis.\n",
    "- This is because speeches by the BoE are mostly positive or lean towards being neutral and more vague. So creating our own range of scores in relation to the existing range of scores would make more sense. "
   ]
  },
  {
   "cell_type": "code",
   "execution_count": null,
   "id": "f71b55ef",
   "metadata": {},
   "outputs": [],
   "source": []
  },
  {
   "cell_type": "code",
   "execution_count": null,
   "id": "d3c63c8e",
   "metadata": {},
   "outputs": [],
   "source": []
  },
  {
   "cell_type": "markdown",
   "id": "d10a52ea",
   "metadata": {},
   "source": [
    "### Rolling Average or ARIMA"
   ]
  },
  {
   "cell_type": "markdown",
   "id": "5b69b0d6",
   "metadata": {},
   "source": [
    "1. BoE have already stated that they are looking for longer time periods, not short term time periods. \n",
    "2. A rolling average may give a better overview of the time period in question (e.g. a quarter) and economic metrics can fluctuate a lot in short amounts of time. \n",
    "3. Consider does this lose some data accuracy in the process?"
   ]
  },
  {
   "cell_type": "markdown",
   "id": "a82abed1",
   "metadata": {},
   "source": [
    "# Initial Exploratory Analysis"
   ]
  },
  {
   "cell_type": "code",
   "execution_count": null,
   "id": "3b3b6c63",
   "metadata": {},
   "outputs": [],
   "source": [
    "# Adding a column to calculate the string length per speech.\n",
    "df['len'] = df['text'].str.len()\n",
    "df"
   ]
  },
  {
   "cell_type": "code",
   "execution_count": 8,
   "id": "65eef0a5",
   "metadata": {
    "scrolled": true
   },
   "outputs": [
    {
     "name": "stdout",
     "output_type": "stream",
     "text": [
      "<class 'pandas.core.frame.DataFrame'>\n",
      "RangeIndex: 1209 entries, 0 to 1208\n",
      "Data columns (total 7 columns):\n",
      " #   Column     Non-Null Count  Dtype \n",
      "---  ------     --------------  ----- \n",
      " 0   reference  1209 non-null   object\n",
      " 1   country    1209 non-null   object\n",
      " 2   date       1209 non-null   object\n",
      " 3   title      1209 non-null   object\n",
      " 4   author     1209 non-null   object\n",
      " 5   is_gov     1209 non-null   int64 \n",
      " 6   text       1209 non-null   object\n",
      "dtypes: int64(1), object(6)\n",
      "memory usage: 66.2+ KB\n"
     ]
    }
   ],
   "source": [
    "# Subset the data to reduce processing time.\n",
    "dfi = df[df['country']=='united kingdom'].sort_values('date').reset_index(drop=True)\n",
    "dfi.info()"
   ]
  },
  {
   "cell_type": "code",
   "execution_count": 12,
   "id": "484f7abe",
   "metadata": {
    "scrolled": false
   },
   "outputs": [
    {
     "data": {
      "image/png": "[encoded data removed]",
      "text/plain": [
       "<Figure size 1200x600 with 1 Axes>"
      ]
     },
     "metadata": {},
     "output_type": "display_data"
    }
   ],
   "source": [
    "# Convert date to datetime format\n",
    "dfi['date'] = pd.to_datetime(df['date'])\n",
    "\n",
    "# Create a new column 'quarter' with the quarter information\n",
    "dfi['quarter'] = dfi['date'].dt.to_period('Q')  \n",
    "\n",
    "# Group the data by quarter and count the number of speeches in each quarter\n",
    "quarterly_speech_count = dfi.groupby('quarter').size()\n",
    "\n",
    "# Plot the data\n",
    "plt.figure(figsize=(12, 6))\n",
    "quarterly_speech_count.plot(kind='bar')\n",
    "plt.title('Number of Speeches by United Kingdom BoE Each Quarter')\n",
    "plt.xlabel('Quarter')\n",
    "plt.ylabel('Number of Speeches')\n",
    "\n",
    "# Customise the x-axis labels to display only the year\n",
    "plt.xticks(range(len(quarterly_speech_count.index)), [str(quarter) for quarter in quarterly_speech_count.index], rotation=0)\n",
    "plt.xticks(rotation=90)\n",
    "\n",
    "plt.show()"
   ]
  },
  {
   "cell_type": "code",
   "execution_count": 13,
   "id": "04227155",
   "metadata": {},
   "outputs": [
    {
     "data": {
      "image/png": "[encoded data removed]",
      "text/plain": [
       "<Figure size 1200x600 with 1 Axes>"
      ]
     },
     "metadata": {},
     "output_type": "display_data"
    }
   ],
   "source": [
    "# Define the quarters you want to display (Q1 and Q3)\n",
    "quarters_to_display = ['Q1', 'Q3']\n",
    "\n",
    "# Filter the quarters to display\n",
    "quarterly_speech_count = quarterly_speech_count[quarterly_speech_count.index.quarter.isin([1, 3])]\n",
    "\n",
    "# Plot the data\n",
    "plt.figure(figsize=(12, 6))\n",
    "quarterly_speech_count.plot(kind='bar')\n",
    "plt.title('Number of Speeches by United Kingdom Bank of England Members Each Quarter')\n",
    "plt.xlabel('Quarter')\n",
    "plt.ylabel('Number of Speeches')\n",
    "\n",
    "# Customize the x-axis labels\n",
    "plt.xticks(range(len(quarterly_speech_count.index)), [f'{quarter.year} {quarter.quarter}' for quarter in quarterly_speech_count.index], rotation=0)\n",
    "plt.xticks(rotation=90)\n",
    "\n",
    "plt.show()"
   ]
  },
  {
   "cell_type": "code",
   "execution_count": 14,
   "id": "fcad986b",
   "metadata": {
    "scrolled": false
   },
   "outputs": [
    {
     "data": {
      "text/html": [
       "<div>\n",
       "<style scoped>\n",
       "    .dataframe tbody tr th:only-of-type {\n",
       "        vertical-align: middle;\n",
       "    }\n",
       "\n",
       "    .dataframe tbody tr th {\n",
       "        vertical-align: top;\n",
       "    }\n",
       "\n",
       "    .dataframe thead th {\n",
       "        text-align: right;\n",
       "    }\n",
       "</style>\n",
       "<table border=\"1\" class=\"dataframe\">\n",
       "  <thead>\n",
       "    <tr style=\"text-align: right;\">\n",
       "      <th></th>\n",
       "      <th>reference</th>\n",
       "      <th>country</th>\n",
       "      <th>date</th>\n",
       "      <th>title</th>\n",
       "      <th>author</th>\n",
       "      <th>is_gov</th>\n",
       "      <th>text</th>\n",
       "      <th>quarter</th>\n",
       "    </tr>\n",
       "  </thead>\n",
       "  <tbody>\n",
       "    <tr>\n",
       "      <th>0</th>\n",
       "      <td>r980915a_BOE</td>\n",
       "      <td>united kingdom</td>\n",
       "      <td>1990-11-28</td>\n",
       "      <td>Speech</td>\n",
       "      <td>george</td>\n",
       "      <td>0</td>\n",
       "      <td>thank you chairman im actually very pleased to...</td>\n",
       "      <td>1990Q4</td>\n",
       "    </tr>\n",
       "    <tr>\n",
       "      <th>1</th>\n",
       "      <td>r981021b_BOE</td>\n",
       "      <td>united kingdom</td>\n",
       "      <td>1991-10-03</td>\n",
       "      <td>Britain in Europe</td>\n",
       "      <td>george</td>\n",
       "      <td>0</td>\n",
       "      <td>its a great pleasure to be here in the beautif...</td>\n",
       "      <td>1991Q4</td>\n",
       "    </tr>\n",
       "    <tr>\n",
       "      <th>2</th>\n",
       "      <td>r981021a_BOE</td>\n",
       "      <td>united kingdom</td>\n",
       "      <td>1992-03-14</td>\n",
       "      <td>Impact of the recent turbulence in internation...</td>\n",
       "      <td>king</td>\n",
       "      <td>1</td>\n",
       "      <td>few industries have suffered more from volatil...</td>\n",
       "      <td>1992Q1</td>\n",
       "    </tr>\n",
       "    <tr>\n",
       "      <th>3</th>\n",
       "      <td>r981101a_BOE</td>\n",
       "      <td>united kingdom</td>\n",
       "      <td>1992-05-29</td>\n",
       "      <td>Economic policy, with and without forecasts</td>\n",
       "      <td>budd</td>\n",
       "      <td>0</td>\n",
       "      <td>my topic this evening is the use of forecasts ...</td>\n",
       "      <td>1992Q2</td>\n",
       "    </tr>\n",
       "    <tr>\n",
       "      <th>4</th>\n",
       "      <td>r981101b_BOE</td>\n",
       "      <td>united kingdom</td>\n",
       "      <td>1992-08-17</td>\n",
       "      <td>Inflation targeting in practice: the UK experi...</td>\n",
       "      <td>vickers</td>\n",
       "      <td>0</td>\n",
       "      <td>six years ago this week sterling left the exch...</td>\n",
       "      <td>1992Q3</td>\n",
       "    </tr>\n",
       "    <tr>\n",
       "      <th>...</th>\n",
       "      <td>...</td>\n",
       "      <td>...</td>\n",
       "      <td>...</td>\n",
       "      <td>...</td>\n",
       "      <td>...</td>\n",
       "      <td>...</td>\n",
       "      <td>...</td>\n",
       "      <td>...</td>\n",
       "    </tr>\n",
       "    <tr>\n",
       "      <th>1204</th>\n",
       "      <td>r221007a_BOE</td>\n",
       "      <td>united kingdom</td>\n",
       "      <td>2002-04-30</td>\n",
       "      <td>Shocks, inflation, and the policy response</td>\n",
       "      <td>ramsden</td>\n",
       "      <td>0</td>\n",
       "      <td>thank you very much for the invitation to spea...</td>\n",
       "      <td>2002Q2</td>\n",
       "    </tr>\n",
       "    <tr>\n",
       "      <th>1205</th>\n",
       "      <td>r221012a_BOE</td>\n",
       "      <td>united kingdom</td>\n",
       "      <td>2002-05-08</td>\n",
       "      <td>Monetary policy: an anchor in challenging times</td>\n",
       "      <td>pill</td>\n",
       "      <td>0</td>\n",
       "      <td>huw pill talks about how we will bring inflati...</td>\n",
       "      <td>2002Q2</td>\n",
       "    </tr>\n",
       "    <tr>\n",
       "      <th>1206</th>\n",
       "      <td>r221015a_BOE</td>\n",
       "      <td>united kingdom</td>\n",
       "      <td>2002-05-09</td>\n",
       "      <td>Monetary policy and financial stability interv...</td>\n",
       "      <td>bailey</td>\n",
       "      <td>1</td>\n",
       "      <td>we are meeting in the most difficult of times ...</td>\n",
       "      <td>2002Q2</td>\n",
       "    </tr>\n",
       "    <tr>\n",
       "      <th>1207</th>\n",
       "      <td>r221019a_BOE</td>\n",
       "      <td>united kingdom</td>\n",
       "      <td>2002-05-16</td>\n",
       "      <td>Governance of “Decentralised” Finance: Get up,...</td>\n",
       "      <td>wilkins</td>\n",
       "      <td>0</td>\n",
       "      <td>these are divided into seven categories suffra...</td>\n",
       "      <td>2002Q2</td>\n",
       "    </tr>\n",
       "    <tr>\n",
       "      <th>1208</th>\n",
       "      <td>r221020a_BOE</td>\n",
       "      <td>united kingdom</td>\n",
       "      <td>2002-05-20</td>\n",
       "      <td>The inflationary consequences of real shocks</td>\n",
       "      <td>broadbent</td>\n",
       "      <td>0</td>\n",
       "      <td>between them the covid19 pandemic and russias ...</td>\n",
       "      <td>2002Q2</td>\n",
       "    </tr>\n",
       "  </tbody>\n",
       "</table>\n",
       "<p>1209 rows × 8 columns</p>\n",
       "</div>"
      ],
      "text/plain": [
       "         reference         country       date  \\\n",
       "0     r980915a_BOE  united kingdom 1990-11-28   \n",
       "1     r981021b_BOE  united kingdom 1991-10-03   \n",
       "2     r981021a_BOE  united kingdom 1992-03-14   \n",
       "3     r981101a_BOE  united kingdom 1992-05-29   \n",
       "4     r981101b_BOE  united kingdom 1992-08-17   \n",
       "...            ...             ...        ...   \n",
       "1204  r221007a_BOE  united kingdom 2002-04-30   \n",
       "1205  r221012a_BOE  united kingdom 2002-05-08   \n",
       "1206  r221015a_BOE  united kingdom 2002-05-09   \n",
       "1207  r221019a_BOE  united kingdom 2002-05-16   \n",
       "1208  r221020a_BOE  united kingdom 2002-05-20   \n",
       "\n",
       "                                                  title     author  is_gov  \\\n",
       "0                                                Speech     george       0   \n",
       "1                                     Britain in Europe     george       0   \n",
       "2     Impact of the recent turbulence in internation...       king       1   \n",
       "3           Economic policy, with and without forecasts       budd       0   \n",
       "4     Inflation targeting in practice: the UK experi...    vickers       0   \n",
       "...                                                 ...        ...     ...   \n",
       "1204         Shocks, inflation, and the policy response    ramsden       0   \n",
       "1205    Monetary policy: an anchor in challenging times       pill       0   \n",
       "1206  Monetary policy and financial stability interv...     bailey       1   \n",
       "1207  Governance of “Decentralised” Finance: Get up,...    wilkins       0   \n",
       "1208       The inflationary consequences of real shocks  broadbent       0   \n",
       "\n",
       "                                                   text quarter  \n",
       "0     thank you chairman im actually very pleased to...  1990Q4  \n",
       "1     its a great pleasure to be here in the beautif...  1991Q4  \n",
       "2     few industries have suffered more from volatil...  1992Q1  \n",
       "3     my topic this evening is the use of forecasts ...  1992Q2  \n",
       "4     six years ago this week sterling left the exch...  1992Q3  \n",
       "...                                                 ...     ...  \n",
       "1204  thank you very much for the invitation to spea...  2002Q2  \n",
       "1205  huw pill talks about how we will bring inflati...  2002Q2  \n",
       "1206  we are meeting in the most difficult of times ...  2002Q2  \n",
       "1207  these are divided into seven categories suffra...  2002Q2  \n",
       "1208  between them the covid19 pandemic and russias ...  2002Q2  \n",
       "\n",
       "[1209 rows x 8 columns]"
      ]
     },
     "execution_count": 14,
     "metadata": {},
     "output_type": "execute_result"
    }
   ],
   "source": [
    "# Convert to lower case and remove punctuation.\n",
    "dfi['text'] = dfi['text'].apply(lambda x: \" \".join(x.lower() for x in x.split()))\n",
    "dfi['text'] = dfi['text'].str.replace('[^\\w\\s]','',regex=True)\n",
    "dfi"
   ]
  },
  {
   "cell_type": "code",
   "execution_count": 15,
   "id": "b258f5cf",
   "metadata": {},
   "outputs": [],
   "source": [
    "# Tokenize the text into words or subword units. \n",
    "# Tokenization is important for creating a structured representation of the text.\n",
    "dfi['text'] = dfi['text'].apply(lambda x: word_tokenize(x))"
   ]
  },
  {
   "cell_type": "code",
   "execution_count": 16,
   "id": "c96e8c7f",
   "metadata": {},
   "outputs": [],
   "source": [
    "# Stop Word Removal\n",
    "stop_words = set(stopwords.words('english'))\n",
    "dfi['text'] = dfi['text'].apply(lambda x: [word for word in x if word not in stop_words])"
   ]
  },
  {
   "cell_type": "code",
   "execution_count": 17,
   "id": "76fed068",
   "metadata": {},
   "outputs": [],
   "source": [
    "from nltk.stem import WordNetLemmatizer\n",
    "\n",
    "lemmatizer = WordNetLemmatizer()\n",
    "dfi['text'] = dfi['text'].apply(lambda x: [lemmatizer.lemmatize(word) for word in x])"
   ]
  },
  {
   "cell_type": "markdown",
   "id": "b6ecc527",
   "metadata": {},
   "source": [
    "## Load Sentiment Wordlist"
   ]
  },
  {
   "cell_type": "code",
   "execution_count": null,
   "id": "cfe732e0",
   "metadata": {},
   "outputs": [],
   "source": []
  },
  {
   "cell_type": "code",
   "execution_count": null,
   "id": "d95a126a",
   "metadata": {},
   "outputs": [],
   "source": []
  },
  {
   "cell_type": "code",
   "execution_count": null,
   "id": "39576082",
   "metadata": {},
   "outputs": [],
   "source": [
    "%%time\n",
    "# Demo: Sentiment intensity analysis using Vadar sentiment and a for loop.\n",
    "sia = SentimentIntensityAnalyzer()\n",
    "dft = pd.DataFrame(columns=['neg', 'neu', 'pos', 'compound'])\n",
    "for j in dfi.index:\n",
    "    score = sia.polarity_scores(dfi.iloc[j,6])\n",
    "    new_row = pd.DataFrame({'neg': score['neg'], 'neu': score['neu'], 'pos': score['pos'], 'compound': score['compound']}, index=[j])\n",
    "    dft = pd.concat([dft, new_row], ignore_index=True)\n",
    "dfi = pd.concat([dfi, dft], axis=1, join=\"inner\")\n",
    "dfi"
   ]
  },
  {
   "cell_type": "code",
   "execution_count": null,
   "id": "5fe486c6",
   "metadata": {},
   "outputs": [],
   "source": [
    "%%time\n",
    "# Demo: Using a self defined function with Textblob to calculate polarity and subjectivity.\n",
    "def generate_polarity_subjectivity(dfs):\n",
    "    dft2 = TextBlob(dfs).sentiment\n",
    "    return pd.Series([dft2[0], dft2[1]])\n",
    "\n",
    "# Apply the function to the data and add two new columns\n",
    "dfi[['polarity','subjectivity']] = dfi['text'].apply(generate_polarity_subjectivity)\n",
    "dfi.head()"
   ]
  },
  {
   "cell_type": "markdown",
   "id": "da7a9a22",
   "metadata": {},
   "source": [
    "## Highest Occurring Topics"
   ]
  },
  {
   "cell_type": "code",
   "execution_count": null,
   "id": "38e47af9",
   "metadata": {},
   "outputs": [],
   "source": []
  },
  {
   "cell_type": "code",
   "execution_count": null,
   "id": "f7d150e7",
   "metadata": {},
   "outputs": [],
   "source": []
  },
  {
   "cell_type": "code",
   "execution_count": null,
   "id": "16521b25",
   "metadata": {},
   "outputs": [],
   "source": []
  },
  {
   "cell_type": "markdown",
   "id": "6c22ca96",
   "metadata": {},
   "source": [
    "### Frequency distribution review of a single speech."
   ]
  },
  {
   "cell_type": "code",
   "execution_count": null,
   "id": "0aa88e7c",
   "metadata": {},
   "outputs": [],
   "source": [
    "%%time\n",
    "# Demo: Frequency distribution review of a single speech.\n",
    "\n",
    "# Tokenise the text data.\n",
    "stop_words=set(stopwords.words('english'))\n",
    "filtered_text = []\n",
    "\n",
    "# Example speech using iloc to reference (Hint: Can be used in loops if required).\n",
    "tokenized_word = word_tokenize(dfi.iloc[0,6])\n",
    "\n",
    "# Filter the tokenised words.\n",
    "for each_word in tokenized_word:\n",
    "    if each_word.lower() not in stop_words and each_word.isalpha():\n",
    "        filtered_text.append(each_word.lower())\n",
    "\n",
    "# Display the filtered list.\n",
    "print('Tokenised list without stop words: {}'.format(filtered_text))\n",
    "\n",
    "# Create a frequency distribution object.\n",
    "freq_dist_of_words = FreqDist(filtered_text)\n",
    "\n",
    "# Show the five most common elements in the data set.\n",
    "freq_dist_of_words.most_common(10)"
   ]
  },
  {
   "cell_type": "code",
   "execution_count": null,
   "id": "8802fcfa",
   "metadata": {},
   "outputs": [],
   "source": [
    "# Set plotting options and plot the data.\n",
    "fig, ax = plt.subplots(dpi=100)\n",
    "fig.set_size_inches(20, 10)\n",
    "freq_dist_of_words.plot(25, cumulative=False)\n",
    "plt.show()"
   ]
  },
  {
   "cell_type": "markdown",
   "id": "3c0f6973",
   "metadata": {},
   "source": []
  },
  {
   "cell_type": "code",
   "execution_count": null,
   "id": "1553fe03",
   "metadata": {},
   "outputs": [],
   "source": []
  }
 ],
 "metadata": {
  "kernelspec": {
   "display_name": "Python 3 (ipykernel)",
   "language": "python",
   "name": "python3"
  },
  "language_info": {
   "codemirror_mode": {
    "name": "ipython",
    "version": 3
   },
   "file_extension": ".py",
   "mimetype": "text/x-python",
   "name": "python",
   "nbconvert_exporter": "python",
   "pygments_lexer": "ipython3",
   "version": "3.11.3"
  }
 },
 "nbformat": 4,
 "nbformat_minor": 5
}
